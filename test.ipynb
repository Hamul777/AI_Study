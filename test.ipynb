{
 "cells": [
  {
   "cell_type": "code",
   "execution_count": 1,
   "id": "43ee0ee7-f370-4575-a520-a983c34900a7",
   "metadata": {},
   "outputs": [
    {
     "name": "stdout",
     "output_type": "stream",
     "text": [
      "제희: 선생님 자동으로 푸시 되는건가요?\n"
     ]
    }
   ],
   "source": [
    "print(\"제희: 선생님 자동으로 푸시 되는건가요?\")"
   ]
  },
  {
   "cell_type": "code",
   "execution_count": null,
   "id": "5cdb5b44-27e4-4a2d-a60d-5f2cbab12034",
   "metadata": {},
   "outputs": [],
   "source": []
  }
 ],
 "metadata": {
  "kernelspec": {
   "display_name": "Python 3 (ipykernel)",
   "language": "python",
   "name": "python3"
  },
  "language_info": {
   "codemirror_mode": {
    "name": "ipython",
    "version": 3
   },
   "file_extension": ".py",
   "mimetype": "text/x-python",
   "name": "python",
   "nbconvert_exporter": "python",
   "pygments_lexer": "ipython3",
   "version": "3.9.7"
  }
 },
 "nbformat": 4,
 "nbformat_minor": 5
}
