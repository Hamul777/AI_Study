{
 "cells": [
  {
   "cell_type": "code",
   "execution_count": 14,
   "id": "d2db5280-9f6a-4255-9c98-778d1a425452",
   "metadata": {},
   "outputs": [
    {
     "name": "stdout",
     "output_type": "stream",
     "text": [
      "3 7\n"
     ]
    }
   ],
   "source": [
    "#동전 던지기 간단 프로그램 코드 조각\n",
    "import random\n",
    "frequency0 = 0\n",
    "frequency1 = 0\n",
    "\n",
    "for roll in range(10):\n",
    "    face = random.randrange(0,2)\n",
    "    if face == 0:\n",
    "        frequency0 += 1\n",
    "    else:\n",
    "        frequency1 += 1\n",
    "print(frequency0,frequency1)"
   ]
  },
  {
   "cell_type": "code",
   "execution_count": null,
   "id": "5f59b102-f058-40c5-b56c-cd0f6d2b3ba7",
   "metadata": {},
   "outputs": [],
   "source": []
  }
 ],
 "metadata": {
  "kernelspec": {
   "display_name": "Python 3",
   "language": "python",
   "name": "python3"
  },
  "language_info": {
   "codemirror_mode": {
    "name": "ipython",
    "version": 3
   },
   "file_extension": ".py",
   "mimetype": "text/x-python",
   "name": "python",
   "nbconvert_exporter": "python",
   "pygments_lexer": "ipython3",
   "version": "3.6.13"
  }
 },
 "nbformat": 4,
 "nbformat_minor": 5
}
